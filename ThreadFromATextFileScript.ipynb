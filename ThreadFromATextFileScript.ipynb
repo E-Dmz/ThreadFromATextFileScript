{
 "cells": [
  {
   "cell_type": "code",
   "execution_count": 1,
   "id": "25543776",
   "metadata": {},
   "outputs": [],
   "source": [
    "import twitter\n",
    "from tweets import tweets, media\n",
    "from keys import keys # your keys in a dictionnary (keys) in a module (keys.py)\n",
    "\n",
    "api = twitter.Api(**keys)\n",
    "num_tweets = len(tweets)\n",
    "\n",
    "print(f'Lengths of tweets ({len(tweets)}) and media ({len(media)}) differ!') if len(tweets) != len(media) else None"
   ]
  },
  {
   "cell_type": "code",
   "execution_count": 2,
   "id": "6ce9510c",
   "metadata": {},
   "outputs": [],
   "source": [
    "for i in range(len(tweets)): # loop  accross the tweets\n",
    "    \n",
    "    tweet_begins = '[🤖 ThreadFromATextFile]\\n' if i == 0 else ''\n",
    "    \n",
    "    tweet_ends = f'\\n\\n{i+1}/{num_tweets}' if i ==0 else f'\\n\\n🤖 {i+1}/{num_tweets}'\n",
    "    \n",
    "    status = api.PostUpdate(\n",
    "        f'{tweet_begins}{tweets[i]}{tweet_ends}',\n",
    "        media = media[i],\n",
    "        in_reply_to_status_id = None if i==0 else status.id,\n",
    "        )"
   ]
  },
  {
   "cell_type": "code",
   "execution_count": null,
   "id": "1176d7e5",
   "metadata": {},
   "outputs": [],
   "source": []
  }
 ],
 "metadata": {
  "kernelspec": {
   "display_name": "Python 3",
   "language": "python",
   "name": "python3"
  },
  "language_info": {
   "codemirror_mode": {
    "name": "ipython",
    "version": 3
   },
   "file_extension": ".py",
   "mimetype": "text/x-python",
   "name": "python",
   "nbconvert_exporter": "python",
   "pygments_lexer": "ipython3",
   "version": "3.8.10"
  }
 },
 "nbformat": 4,
 "nbformat_minor": 5
}
