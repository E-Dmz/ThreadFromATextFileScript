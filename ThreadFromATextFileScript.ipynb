{
 "cells": [
  {
   "cell_type": "code",
   "execution_count": 1,
   "id": "25543776",
   "metadata": {},
   "outputs": [
    {
     "name": "stdout",
     "output_type": "stream",
     "text": [
      "Lengths of tweets (8) and media (12) differ!\n"
     ]
    }
   ],
   "source": [
    "import twitter\n",
    "from tweets import tweets, media\n",
    "from keys import keys\n",
    "\n",
    "api = twitter.Api(**keys)\n",
    "num_tweets = len(tweets)\n",
    "\n",
    "print(f'Lengths of tweets ({len(tweets)}) and media ({len(media)}) differ!') if len(tweets) != len(media) else None"
   ]
  },
  {
   "cell_type": "code",
   "execution_count": null,
   "id": "5677c0c4",
   "metadata": {},
   "outputs": [],
   "source": [
    "import datetime as dt\n",
    "now = dt.datetime.now()\n",
    "now_text = now.strftime(\"%d/%m %H:%M\")"
   ]
  },
  {
   "cell_type": "code",
   "execution_count": null,
   "id": "e81501c4",
   "metadata": {},
   "outputs": [],
   "source": [
    "for i in range(len(tweets)):\n",
    "    if i == 0:\n",
    "        tweet_begins = f'[🤖 ThreadFromATextFile {now_text}] '\n",
    "        tweet_ends = f'\\n{i+1}/{num_tweets}'\n",
    "        status = api.PostUpdate(\n",
    "            f'{tweet_begins}{tw.texts[i]}{tweet_ends}',\n",
    "            media = tw.medias[i],\n",
    "            ) \n",
    "        status_0 = status\n",
    "    else:\n",
    "        tweet_begins = ''\n",
    "        tweet_ends = f'\\n🤖 {i+1}/{num_tweets}'\n",
    "        status = api.PostUpdate(\n",
    "            f'{tweet_begins}{tw.texts[i]}{tweet_ends}',\n",
    "            media = tw.medias[i],\n",
    "            in_reply_to_status_id = status.id,\n",
    "            )\n",
    "\n",
    "status = api.PostRetweet(status_0.id)"
   ]
  }
 ],
 "metadata": {
  "kernelspec": {
   "display_name": "Python 3",
   "language": "python",
   "name": "python3"
  },
  "language_info": {
   "codemirror_mode": {
    "name": "ipython",
    "version": 3
   },
   "file_extension": ".py",
   "mimetype": "text/x-python",
   "name": "python",
   "nbconvert_exporter": "python",
   "pygments_lexer": "ipython3",
   "version": "3.8.10"
  }
 },
 "nbformat": 4,
 "nbformat_minor": 5
}
